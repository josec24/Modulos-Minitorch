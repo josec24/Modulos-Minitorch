{
 "cells": [
  {
   "cell_type": "code",
   "execution_count": 1,
   "id": "0ebdbf26",
   "metadata": {},
   "outputs": [],
   "source": [
    "import minitorch\n",
    "from minitorch import operators\n",
    "from minitorch import module\n",
    "from hypothesis import given\n",
    "from hypothesis.strategies import lists\n",
    "from strategies import (small_floats, assert_close)\n",
    "import pytest\n",
    "import math"
   ]
  },
  {
   "cell_type": "markdown",
   "id": "213cc0b6",
   "metadata": {},
   "source": [
    "<h1>Tarea 1</h1>"
   ]
  },
  {
   "cell_type": "code",
   "execution_count": 3,
   "id": "4c7291e1",
   "metadata": {},
   "outputs": [],
   "source": [
    "@pytest.mark.task0_1\n",
    "@given(small_floats, small_floats)\n",
    "def test_add_and_mul(x, y):\n",
    "    assert_close(operators.mul(x, y), x * y)\n",
    "    assert_close(operators.id(x), x)\n",
    "    assert_close(operators.neg(x), -x)\n",
    "    assert_close(operators.add(x, y), x + y)\n",
    "\n",
    "test_add_and_mul()"
   ]
  },
  {
   "cell_type": "code",
   "execution_count": 4,
   "id": "a84f21ac",
   "metadata": {},
   "outputs": [],
   "source": [
    "@pytest.mark.task0_1\n",
    "@given(small_floats,small_floats)\n",
    "def test_lt(x,y):\n",
    "    if x < y:\n",
    "        assert operators.lt(x,y) == 1\n",
    "    else:\n",
    "        assert operators.lt(x,y) == 0.0\n",
    "test_lt()"
   ]
  },
  {
   "cell_type": "code",
   "execution_count": 5,
   "id": "cd5d7344",
   "metadata": {},
   "outputs": [],
   "source": [
    "@pytest.mark.task0_1\n",
    "@given(small_floats)\n",
    "def test_sigmoid(x):\n",
    "    if x >= 0:\n",
    "        assert operators.sigmoid(x) == 1/(1+math.exp(-x))\n",
    "    else:\n",
    "        assert operators.sigmoid(x) == math.exp(x)/(1+math.exp(x))\n",
    "\n",
    "test_sigmoid()"
   ]
  },
  {
   "cell_type": "code",
   "execution_count": 6,
   "id": "943b128d",
   "metadata": {},
   "outputs": [],
   "source": [
    "@pytest.mark.task0_1\n",
    "@given(small_floats)\n",
    "def test_relu(a):\n",
    "    if a > 0:\n",
    "        assert operators.relu(a) == a\n",
    "    else:\n",
    "        assert operators.relu(a) == 0.0"
   ]
  },
  {
   "cell_type": "code",
   "execution_count": 7,
   "id": "02ad3ffe",
   "metadata": {},
   "outputs": [],
   "source": [
    "@pytest.mark.task0_1\n",
    "@given(small_floats,small_floats)\n",
    "def test_relu_back(x,y):\n",
    "    if x > 0:\n",
    "        assert operators.relu_back(x,y) == y\n",
    "    else:\n",
    "        assert operators.relu_back(x,y) == 0.0\n",
    "        \n",
    "test_relu_back()"
   ]
  },
  {
   "cell_type": "markdown",
   "id": "3a98e630",
   "metadata": {},
   "source": [
    "<h1>Tarea 2</h1>"
   ]
  },
  {
   "cell_type": "code",
   "execution_count": 8,
   "id": "597fc08f",
   "metadata": {},
   "outputs": [],
   "source": [
    "@pytest.mark.task0_2\n",
    "@given(small_floats, small_floats)\n",
    "def test_symmetric(x,y):\n",
    "    \"\"\"\n",
    "    Write a test that ensures that :func:`minitorch.operators.mul` is symmetric, i.e.\n",
    "    gives the same value regardless of the order of its input.\n",
    "    \"\"\"\n",
    "    assert_close(operators.mul(x, y),operators.mul(y, x))\n",
    "#     None\n",
    "    # TODO: Implement for Task 0.2.\n",
    "#     raise NotImplementedError('Need to implement for Task 0.2')\n",
    "\n",
    "test_symmetric()"
   ]
  },
  {
   "cell_type": "code",
   "execution_count": 9,
   "id": "131ef230",
   "metadata": {},
   "outputs": [],
   "source": [
    "@pytest.mark.task0_2\n",
    "@given(small_floats, small_floats, small_floats)\n",
    "def test_distribute(x,y,z):\n",
    "    r\"\"\"\n",
    "    Write a test that ensures that your operators distribute, i.e.\n",
    "    :math:`z \\times (x + y) = z \\times x + z \\times y`\n",
    "    \"\"\"\n",
    "    \n",
    "    assert_close(operators.mul(z, operators.add(x,y)),operators.add(operators.mul(z, x),operators.mul(z, y)))\n",
    "    \n",
    "#     None\n",
    "    # TODO: Implement for Task 0.2.\n",
    "#     raise NotImplementedError('Need to implement for Task 0.2')\n",
    "test_distribute()"
   ]
  },
  {
   "cell_type": "code",
   "execution_count": 10,
   "id": "04b3597c",
   "metadata": {},
   "outputs": [],
   "source": [
    "@pytest.mark.task0_2\n",
    "@given(small_floats, small_floats, small_floats)\n",
    "def test_other(x,y,z):\n",
    "    \"\"\"\n",
    "    Write a test that ensures some other property holds for your functions.\n",
    "    \"\"\"\n",
    "    #propiedad asociativa\n",
    "    #(x*y)*z=x*(y*z)\n",
    "    assert_close(operators.mul(operators.mul(x, y),z),operators.mul(x,operators.mul(y, z)))\n",
    "    \n",
    "#     None\n",
    "    # TODO: Implement for Task 0.2.\n",
    "#     raise NotImplementedError('Need to implement for Task 0.2')\n",
    "test_other()"
   ]
  },
  {
   "cell_type": "markdown",
   "id": "8808a4d5",
   "metadata": {},
   "source": [
    "<h1>Tarea 3</h1>"
   ]
  },
  {
   "cell_type": "code",
   "execution_count": 11,
   "id": "ce55f2df",
   "metadata": {},
   "outputs": [],
   "source": [
    "@pytest.mark.task0_3\n",
    "@given(small_floats, small_floats, small_floats, small_floats)\n",
    "def test_zip_with(a, b, c, d):\n",
    "    assert_close(operators.addLists([a, b], [c, d]), [a + c, b + d])\n",
    "\n",
    "test_zip_with()"
   ]
  },
  {
   "cell_type": "code",
   "execution_count": 12,
   "id": "c6c9cb6b",
   "metadata": {},
   "outputs": [],
   "source": [
    "@pytest.mark.task0_3\n",
    "@given(\n",
    "    lists(small_floats, min_size=5, max_size=5),\n",
    "    lists(small_floats, min_size=5, max_size=5),\n",
    ")\n",
    "def test_property(ls1, ls2):\n",
    "    \"\"\"\n",
    "    Write a test that ensures that the sum of `ls1` plus the sum of `ls2`\n",
    "    is the same as the sum of each element of `ls1` plus each element of `ls2`.\n",
    "    \"\"\"\n",
    "    # TODO: Implement for Task 0.3.\n",
    "    ls3=[]\n",
    "    for i,a in enumerate(ls1):\n",
    "        ls3.append(ls1[i] + ls2[i])\n",
    "    assert_close(operators.addLists(ls1, ls2),ls3)\n",
    "#     raise NotImplementedError('Need to implement for Task 0.3')\n",
    "\n",
    "test_property()"
   ]
  },
  {
   "cell_type": "code",
   "execution_count": 13,
   "id": "a2f71c4f",
   "metadata": {},
   "outputs": [],
   "source": [
    "@pytest.mark.task0_3\n",
    "@given(lists(small_floats))\n",
    "\n",
    "def test_sum(ls):\n",
    "    assert_close(operators.sum(ls), sum(ls))\n",
    "\n",
    "test_sum()"
   ]
  },
  {
   "cell_type": "code",
   "execution_count": 14,
   "id": "b2e6e610",
   "metadata": {},
   "outputs": [],
   "source": [
    "@pytest.mark.task0_3\n",
    "@given(small_floats, small_floats, small_floats)\n",
    "def test_prod(x, y, z):\n",
    "    assert_close(operators.prod([x, y, z]), x * y * z)\n",
    "test_prod()"
   ]
  },
  {
   "cell_type": "markdown",
   "id": "5c46d711",
   "metadata": {},
   "source": [
    "***Tarea 4\n"
   ]
  },
  {
   "cell_type": "code",
   "execution_count": 15,
   "id": "980f9a19",
   "metadata": {},
   "outputs": [],
   "source": [
    "import minitorch\n",
    "import pytest"
   ]
  },
  {
   "cell_type": "code",
   "execution_count": 16,
   "id": "a7971bd6",
   "metadata": {},
   "outputs": [],
   "source": [
    "VAL = 40\n",
    "\n",
    "\n",
    "class Module1(minitorch.Module):\n",
    "    def __init__(self):\n",
    "        super().__init__()\n",
    "        self.module_a = Module2(5)\n",
    "        self.module_b = Module2(10)\n",
    "        self.parameter_a = minitorch.Parameter(VAL)\n",
    "\n",
    "\n",
    "VAL_A = 50\n",
    "VAL_B = 100\n",
    "\n",
    "\n",
    "class Module2(minitorch.Module):\n",
    "    def __init__(self, extra=0):\n",
    "        super().__init__()\n",
    "        self.parameter_a = minitorch.Parameter(VAL_A)\n",
    "        self.parameter_b = minitorch.Parameter(VAL_B)\n",
    "        self.non_parameter = 10\n",
    "        for i in range(extra):\n",
    "            self.add_parameter(f\"extra_parameter_{i}\", None)"
   ]
  },
  {
   "cell_type": "code",
   "execution_count": 17,
   "id": "08449173",
   "metadata": {},
   "outputs": [],
   "source": [
    "@pytest.mark.task0_4\n",
    "def test_module():\n",
    "    \"Check the properties of a single module\"\n",
    "    module = Module2()\n",
    "    module.eval()\n",
    "    assert module.mode == \"eval\"\n",
    "    module.train()\n",
    "    assert module.mode == \"train\"\n",
    "    assert len(module.parameters()) == 2\n",
    "\n",
    "    module = Module2(10)\n",
    "    assert len(module.parameters()) == 12\n",
    "\n",
    "    module = Module2(5)\n",
    "    named_parameters = module.named_parameters()\n",
    "    assert named_parameters[\"parameter_a\"].value == VAL_A\n",
    "    assert named_parameters[\"parameter_b\"].value == VAL_B\n",
    "    assert named_parameters[\"extra_parameter_0\"].value is None\n",
    "\n",
    "test_module()"
   ]
  },
  {
   "cell_type": "code",
   "execution_count": 19,
   "id": "572c0cb4",
   "metadata": {},
   "outputs": [
    {
     "name": "stdout",
     "output_type": "stream",
     "text": [
      "Module1(\n",
      "  (module_a): Module2()\n",
      "  (module_b): Module2()\n",
      ")\n"
     ]
    }
   ],
   "source": [
    "@pytest.mark.task0_4\n",
    "def test_stacked_module():\n",
    "    \"Check the properties of a stacked module\"\n",
    "    module = Module1()\n",
    "    print(module)\n",
    "    module.eval()\n",
    "    assert module.mode == \"eval\"\n",
    "    assert module.module_a.mode == \"eval\"\n",
    "    assert module.module_b.mode == \"eval\"\n",
    "    module.train()\n",
    "    assert module.mode == \"train\"\n",
    "    assert module.module_a.mode == \"train\"\n",
    "    assert module.module_b.mode == \"train\"\n",
    "    assert len(module.parameters()) == 1 + 7 + 12\n",
    "\n",
    "    named_parameters = module.named_parameters()\n",
    "    assert named_parameters[\"parameter_a\"].value == VAL\n",
    "    assert named_parameters[\"module_a.parameter_a\"].value == VAL_A\n",
    "    assert named_parameters[\"module_a.parameter_b\"].value == VAL_B\n",
    "    assert named_parameters[\"module_b.parameter_a\"].value == VAL_A\n",
    "    assert named_parameters[\"module_b.parameter_b\"].value == VAL_B\n",
    "test_stacked_module()"
   ]
  },
  {
   "cell_type": "markdown",
   "id": "7662b032",
   "metadata": {},
   "source": [
    "##tarea 4"
   ]
  },
  {
   "cell_type": "code",
   "execution_count": 1,
   "id": "b9d85a17",
   "metadata": {},
   "outputs": [
    {
     "name": "stderr",
     "output_type": "stream",
     "text": [
      "Setting up a new session...\n"
     ]
    }
   ],
   "source": [
    "from project.datasets import Simple, Split, Xor\n",
    "N = 200\n",
    "Simple(N, vis=True).graph(\"initial\")"
   ]
  },
  {
   "cell_type": "code",
   "execution_count": 2,
   "id": "51b9f781",
   "metadata": {},
   "outputs": [
    {
     "name": "stderr",
     "output_type": "stream",
     "text": [
      "Setting up a new session...\n"
     ]
    }
   ],
   "source": [
    "def classify(pt):\n",
    "    \"Classify based on x position\"\n",
    "    if pt[0] < 0.2 or pt[0]>0.8:\n",
    "        return 1.0\n",
    "    else:\n",
    "        return 0.0\n",
    "\n",
    "Split(N, vis=True).graph(\"initial\", model=classify)"
   ]
  },
  {
   "cell_type": "code",
   "execution_count": null,
   "id": "7eaca607",
   "metadata": {},
   "outputs": [],
   "source": []
  },
  {
   "cell_type": "code",
   "execution_count": null,
   "id": "04fc79ea",
   "metadata": {},
   "outputs": [],
   "source": []
  }
 ],
 "metadata": {
  "kernelspec": {
   "display_name": "Python 3",
   "language": "python",
   "name": "python3"
  },
  "language_info": {
   "codemirror_mode": {
    "name": "ipython",
    "version": 3
   },
   "file_extension": ".py",
   "mimetype": "text/x-python",
   "name": "python",
   "nbconvert_exporter": "python",
   "pygments_lexer": "ipython3",
   "version": "3.8.8"
  }
 },
 "nbformat": 4,
 "nbformat_minor": 5
}
